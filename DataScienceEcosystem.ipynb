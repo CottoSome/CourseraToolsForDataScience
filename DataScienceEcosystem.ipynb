{
 "cells": [
  {
   "cell_type": "markdown",
   "id": "df9257f1-4448-41b6-843b-69025b1916bf",
   "metadata": {},
   "source": [
    "# Data Science Tools and Ecosystem"
   ]
  },
  {
   "cell_type": "markdown",
   "id": "030b4dc8-ee21-4559-a3b2-86e52cbe0a4e",
   "metadata": {},
   "source": [
    "In this notebook, Data Science Tools and Ecosystem are summarized."
   ]
  },
  {
   "cell_type": "markdown",
   "id": "fe2c7fb2-e20f-43e9-9886-8c82dba3a808",
   "metadata": {},
   "source": [
    "**Objectives:**\n",
    "* Create a Jupyter Notebook\n",
    "* Insert code and markdown cells\n",
    "* List popular languages for Data Science\n",
    "* List popular libraries for Data Science\n",
    "* Share your notebook through GitHub"
   ]
  },
  {
   "cell_type": "markdown",
   "id": "4ba2211d-bd5b-4ee3-913f-0f1f8c0d07c6",
   "metadata": {},
   "source": [
    "## Author\n",
    "Christoph Heisen"
   ]
  },
  {
   "cell_type": "markdown",
   "id": "321fd4c8-b228-4a93-a5cf-b9cedb25dd46",
   "metadata": {},
   "source": [
    "Some of the popular languages that Data Scientists use are:\n",
    "1. Python\n",
    "2. R\n",
    "3. Java\n",
    "4. Julia\n",
    "5. SQL"
   ]
  },
  {
   "cell_type": "markdown",
   "id": "c3445bcf-dee5-4b94-9b9d-c416637e306f",
   "metadata": {},
   "source": [
    "Some of the commonly used libraries used by Data Scientists include:\n",
    "1. NumPy\n",
    "2. Matplotlib\n",
    "3. Seaborn\n",
    "4. Scikit-learn\n",
    "5. Pytorch\n",
    "6. TensorFlow\n",
    "7. Spark\n",
    "8. Vegas\n",
    "9. ggplot2"
   ]
  },
  {
   "cell_type": "markdown",
   "id": "de58acc2-8b00-4972-a1b6-88737a5a9852",
   "metadata": {},
   "source": [
    "| Data Science Tools |\n",
    "| ------------------ |\n",
    "| Jupyter            |\n",
    "| Apache Zeppelin    |\n",
    "| RStudio            |\n",
    "| KNIME              |\n"
   ]
  },
  {
   "cell_type": "markdown",
   "id": "2090b5e2-5c2a-44d7-b2b3-bdec0c4c38f5",
   "metadata": {},
   "source": [
    "### Below are a few examples of evaluating arithmetic expressions in Python"
   ]
  },
  {
   "cell_type": "code",
   "execution_count": 1,
   "id": "caf2b5ce-f284-47f7-92bf-49782d6a04f1",
   "metadata": {},
   "outputs": [
    {
     "data": {
      "text/plain": [
       "17"
      ]
     },
     "execution_count": 1,
     "metadata": {},
     "output_type": "execute_result"
    }
   ],
   "source": [
    "# This a simple arithmetic expression to mutiply then add integers\n",
    "(3*4)+5"
   ]
  },
  {
   "cell_type": "code",
   "execution_count": 4,
   "id": "58dddf02-55d3-4447-8526-b204f148e8ca",
   "metadata": {},
   "outputs": [
    {
     "name": "stdout",
     "output_type": "stream",
     "text": [
      "3.3333333333333335\n"
     ]
    }
   ],
   "source": [
    "# This will convert 200 minutes to hours by diving by 60\n",
    "minutes = 200\n",
    "hours = minutes / 60\n",
    "print(hours)"
   ]
  },
  {
   "cell_type": "code",
   "execution_count": null,
   "id": "01944f69-b46e-47af-a3a3-5b6ea479d850",
   "metadata": {},
   "outputs": [],
   "source": []
  }
 ],
 "metadata": {
  "kernelspec": {
   "display_name": "Python 3 (ipykernel)",
   "language": "python",
   "name": "python3"
  },
  "language_info": {
   "codemirror_mode": {
    "name": "ipython",
    "version": 3
   },
   "file_extension": ".py",
   "mimetype": "text/x-python",
   "name": "python",
   "nbconvert_exporter": "python",
   "pygments_lexer": "ipython3",
   "version": "3.11.6"
  }
 },
 "nbformat": 4,
 "nbformat_minor": 5
}
